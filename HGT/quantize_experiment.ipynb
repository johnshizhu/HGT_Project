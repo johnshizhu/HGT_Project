{
 "cells": [
  {
   "cell_type": "code",
   "execution_count": 1,
   "metadata": {},
   "outputs": [
    {
     "name": "stdout",
     "output_type": "stream",
     "text": [
      "Microsoft Academic Graph Dataset Experiment\n"
     ]
    }
   ],
   "source": [
    "'''\n",
    "This code opens the Microsoft Academic Graph Dataset and trains HGT\n",
    "Based on code provided by original HGT paper\n",
    "'''\n",
    "import torch\n",
    "from hgt import *\n",
    "from hgt_utils import *\n",
    "from model import *\n",
    "from ogb.nodeproppred import PygNodePropPredDataset\n",
    "from ogb.nodeproppred import Evaluator\n",
    "import numpy as np\n",
    "import time\n",
    "import matplotlib as plt\n",
    "\n",
    "print(\"Microsoft Academic Graph Dataset Experiment\")"
   ]
  },
  {
   "cell_type": "code",
   "execution_count": 2,
   "metadata": {},
   "outputs": [
    {
     "name": "stdout",
     "output_type": "stream",
     "text": [
      "Begin Data Preprocessing\n",
      "\n",
      "Retrieving Data from Open Graph Benchmark ...\n",
      "... Retrieval complete\n"
     ]
    }
   ],
   "source": [
    "'''\n",
    "Data Preprocessing\n",
    "ogbn-mag only comes with paper node features, thus for other nodes types we take the average\n",
    "of connected paper nodes as input features. \n",
    "'''\n",
    "print(\"Begin Data Preprocessing\")\n",
    "print(\"\")\n",
    "print(\"Retrieving Data from Open Graph Benchmark ...\")\n",
    "\n",
    "# Get dataset using Pytorch Geometric Loader\n",
    "dataset = PygNodePropPredDataset(name='ogbn-mag')\n",
    "print(\"... Retrieval complete\")\n",
    "data = dataset[0] # pyg graph object"
   ]
  },
  {
   "cell_type": "code",
   "execution_count": 3,
   "metadata": {},
   "outputs": [
    {
     "name": "stdout",
     "output_type": "stream",
     "text": [
      "Populating edge lists into Graph object\n",
      "('author', 'affiliated_with', 'institution')\n",
      "('author', 'writes', 'paper')\n",
      "('paper', 'cites', 'paper')\n",
      "('paper', 'has_topic', 'field_of_study')\n",
      "\n",
      "Reformatting edge lists and computing node degrees\n",
      "institution author affiliated_with 8740\n",
      "author institution rev_affiliated_with 852987\n",
      "author paper rev_writes 1134649\n",
      "paper author writes 736389\n",
      "paper paper cites 629169\n",
      "paper paper rev_cites 617924\n",
      "paper field_of_study rev_has_topic 736389\n",
      "field_of_study paper has_topic 59965\n",
      "\n",
      "Constructing node feature vectors for each node type in graph\n",
      "author\n",
      "field_of_study\n",
      "institution\n",
      "paper\n",
      "\n",
      "Constructing Node features for institutions\n",
      "\n",
      "Splitting dataset into train, val and test\n",
      "\n",
      "Creating Masks\n",
      "\n",
      "Preprocessing complete\n"
     ]
    }
   ],
   "source": [
    "# Constructing Custom Graph\n",
    "graph, y, train_paper, valid_paper, test_paper = prepare_graph(data, dataset)"
   ]
  },
  {
   "cell_type": "code",
   "execution_count": 4,
   "metadata": {},
   "outputs": [],
   "source": [
    "# CUSTOMIZE PARAMETERS HERE\n",
    "n_batch = 32        # number of sampled graphs for each epoch\n",
    "batch_size = 128\n",
    "num_epochs = 10\n",
    "clip = 1.0\n",
    "sample_depth = 6\n",
    "sample_width = 520\n",
    "plot = False # True or false to plot data"
   ]
  },
  {
   "cell_type": "code",
   "execution_count": 5,
   "metadata": {},
   "outputs": [
    {
     "name": "stdout",
     "output_type": "stream",
     "text": [
      "Starting Sampling...\n"
     ]
    },
    {
     "name": "stderr",
     "output_type": "stream",
     "text": [
      "c:\\Users\\johns\\OneDrive\\Desktop\\HGT_Project\\HGT\\hgt_utils.py:422: UserWarning: Creating a tensor from a list of numpy.ndarrays is extremely slow. Please consider converting the list to a single numpy.ndarray with numpy.array() before converting to a tensor. (Triggered internally at ..\\torch\\csrc\\utils\\tensor_new.cpp:264.)\n",
      "  node_feature = torch.FloatTensor(node_feature)\n"
     ]
    },
    {
     "name": "stdout",
     "output_type": "stream",
     "text": [
      "...Sampling Done\n",
      "Starting Sampling...\n",
      "...Sampling Done\n",
      "Starting Sampling...\n",
      "...Sampling Done\n",
      "Starting Sampling...\n",
      "...Sampling Done\n",
      "Starting Sampling...\n",
      "...Sampling Done\n",
      "Starting Sampling...\n",
      "...Sampling Done\n",
      "Starting Sampling...\n",
      "...Sampling Done\n",
      "Starting Sampling...\n",
      "...Sampling Done\n",
      "Starting Sampling...\n",
      "...Sampling Done\n",
      "Starting Sampling...\n",
      "...Sampling Done\n"
     ]
    }
   ],
   "source": [
    "# Get Training Data for num_epochs\n",
    "target_nodes = np.arange(len(graph.node_feature['paper']))\n",
    "datas_list = []\n",
    "\n",
    "for i in np.arange(num_epochs):\n",
    "    datas_list.append(get_n_batches_training_data(n_batch, graph, sample_depth, sample_width, target_nodes, batch_size))"
   ]
  },
  {
   "cell_type": "code",
   "execution_count": 6,
   "metadata": {},
   "outputs": [
    {
     "name": "stdout",
     "output_type": "stream",
     "text": [
      "Creating Model\n",
      "Sequential(\n",
      "  (0): HGTModel(\n",
      "    (adapt_features): ModuleList(\n",
      "      (0-3): 4 x Linear(in_features=129, out_features=512, bias=True)\n",
      "    )\n",
      "    (hgt_layers): ModuleList(\n",
      "      (0-3): 4 x HGTLayer()\n",
      "    )\n",
      "    (drop): Dropout(p=0.7, inplace=False)\n",
      "  )\n",
      "  (1): Classifier(n_hid=512, n_out=349)\n",
      ")\n"
     ]
    }
   ],
   "source": [
    "# Creating Model\n",
    "\n",
    "# Model parameters\n",
    "hidden_dim = 256\n",
    "num_heads = 8\n",
    "num_layers = 6\n",
    "dropout = 0.6\n",
    "\n",
    "print(\"Creating Model\")\n",
    "hgt_GNN = HGTModel(len(graph.node_feature['paper'][0]), # input_dim\n",
    "                   hidden_dim,                          # hidden_dim\n",
    "                   len(graph.get_types()),              # num_node_types\n",
    "                   len(graph.get_meta_graph()),         # num_edge_types\n",
    "                   num_heads,                           # num_heads\n",
    "                   num_layers,                          # num_layers\n",
    "                   dropout,                             # dropout\n",
    "                   prev_norm = True,                    # normalization on all but last layer\n",
    "                   last_norm = False,                   # normalization on last layer\n",
    "                   use_rte = True)                      # use relative temporal encoding \n",
    "\n",
    "# Create quantized HGT \n",
    "quantized_hgt_GNN = torch.quantization.quantize_dynamic(hgt_GNN, dtype=torch.qint8)\n",
    "\n",
    "classifier = Classifier(hidden_dim, graph.y.max()+1)\n",
    "model = nn.Sequential(quantized_hgt_GNN, classifier)\n",
    "print(model)"
   ]
  },
  {
   "cell_type": "code",
   "execution_count": 18,
   "metadata": {},
   "outputs": [],
   "source": [
    "# Defining Optimizer, Scheduler, Loss, etc. \n",
    "criterion = nn.NLLLoss()\n",
    "evaluator = Evaluator(name='ogbn-mag')\n",
    "\n",
    "param_optimizer = list(model.named_parameters())\n",
    "no_decay = ['bias', 'LayerNorm.bias', 'LayerNorm.weight']\n",
    "optimizer_grouped_parameters = [\n",
    "        {'params': [p for n, p in param_optimizer if not any(nd in n for nd in no_decay)], 'weight_decay': 0.01},\n",
    "        {'params': [p for n, p in param_optimizer if any(nd in n for nd in no_decay)],     'weight_decay': 0.0}\n",
    "    ]\n",
    "\n",
    "optimizer = torch.optim.AdamW(optimizer_grouped_parameters, eps=1e-06)\n",
    "scheduler = torch.optim.lr_scheduler.OneCycleLR(optimizer, pct_start=0.05, anneal_strategy='linear', final_div_factor=10,\\\n",
    "                        max_lr = 5e-4, total_steps = n_batch * num_epochs + 1)\n",
    "\n",
    "stats = []\n",
    "res = []\n",
    "best_val = 0\n",
    "train_step = 0"
   ]
  },
  {
   "cell_type": "code",
   "execution_count": 19,
   "metadata": {},
   "outputs": [
    {
     "name": "stdout",
     "output_type": "stream",
     "text": [
      "Current Epoch is: 0 ---------------------\n"
     ]
    },
    {
     "name": "stderr",
     "output_type": "stream",
     "text": [
      "c:\\Users\\johns\\AppData\\Local\\Programs\\Python\\Python311\\Lib\\site-packages\\torch\\optim\\lr_scheduler.py:149: UserWarning: The epoch parameter in `scheduler.step()` was not necessary and is being deprecated where possible. Please use `scheduler.step()` to step the scheduler. During the deprecation, if epoch is different from None, the closed form is used instead of the new chainable form, where available. Please open an issue if you are unable to replicate your use case: https://github.com/pytorch/pytorch/issues/new/choose.\n",
      "  warnings.warn(EPOCH_DEPRECATION_WARNING, UserWarning)\n"
     ]
    },
    {
     "name": "stdout",
     "output_type": "stream",
     "text": [
      "train_acc: 0.2748560460652591\n",
      "valid_acc: 0.18404907975460122\n",
      "test_acc: 0.14826498422712933\n",
      "\n",
      "Current Epoch is: 1 ---------------------\n",
      "train_acc: 0.5328301886792453\n",
      "valid_acc: 0.19631901840490798\n",
      "test_acc: 0.19852941176470587\n",
      "\n",
      "Current Epoch is: 2 ---------------------\n",
      "train_acc: 0.5648457822370866\n",
      "valid_acc: 0.22033898305084745\n",
      "test_acc: 0.1984732824427481\n",
      "\n",
      "Current Epoch is: 3 ---------------------\n",
      "train_acc: 0.7155963302752294\n",
      "valid_acc: 0.26865671641791045\n",
      "test_acc: 0.2222222222222222\n",
      "\n",
      "Current Epoch is: 4 ---------------------\n",
      "train_acc: 0.7241766467065869\n",
      "valid_acc: 0.29260450160771706\n",
      "test_acc: 0.2830188679245283\n",
      "\n",
      "Current Epoch is: 5 ---------------------\n",
      "train_acc: 0.7092360319270239\n",
      "valid_acc: 0.3003412969283277\n",
      "test_acc: 0.3549382716049383\n",
      "\n",
      "Current Epoch is: 6 ---------------------\n",
      "train_acc: 0.625\n",
      "valid_acc: 0.3333333333333333\n",
      "test_acc: 0.35144927536231885\n",
      "\n",
      "Current Epoch is: 7 ---------------------\n",
      "train_acc: 0.5840304182509506\n",
      "valid_acc: 0.2887537993920973\n",
      "test_acc: 0.2906574394463668\n",
      "\n",
      "Current Epoch is: 8 ---------------------\n",
      "train_acc: 0.48795648795648794\n",
      "valid_acc: 0.31728045325779036\n",
      "test_acc: 0.3177570093457944\n",
      "\n",
      "Current Epoch is: 9 ---------------------\n",
      "train_acc: 0.4001493094438223\n",
      "valid_acc: 0.27483443708609273\n",
      "test_acc: 0.31086142322097376\n",
      "\n",
      "TRAINING time elapsed is: 4616.090139389038\n",
      "time elapsed is: 4616.105019569397\n"
     ]
    }
   ],
   "source": [
    "# Model Training\n",
    "start_time = time.time()\n",
    "epoch_counter = 0\n",
    "total_training_time = 0\n",
    "\n",
    "for epoch in np.arange(num_epochs):\n",
    "    print(f'Current Epoch is: {epoch_counter} ---------------------')\n",
    "\n",
    "    # TRAINING\n",
    "    training_time_start = time.time()\n",
    "    model.train()\n",
    "    stat = []\n",
    "    for data in datas_list[epoch]:\n",
    "        node_feature = data[0]\n",
    "        node_type = data[1]\n",
    "        edge_time = data[2]\n",
    "        edge_index = data[3]\n",
    "        edge_type = data[4]\n",
    "        (train_mask, valid_mask, test_mask) = data[5]\n",
    "        ylabel = data[6]\n",
    "\n",
    "        # Forward\n",
    "        node_rep = hgt_GNN.forward(node_feature, node_type, edge_index, edge_type, edge_time)\n",
    "        ylabel = torch.LongTensor(ylabel)\n",
    "        train_res  = classifier.forward(node_rep[:len(ylabel)][train_mask])\n",
    "        valid_res  = classifier.forward(node_rep[:len(ylabel)][valid_mask])\n",
    "        test_res   = classifier.forward(node_rep[:len(ylabel)][test_mask])\n",
    "\n",
    "        train_loss = criterion(train_res, ylabel[train_mask])\n",
    "        \n",
    "        optimizer.zero_grad()\n",
    "        train_loss.backward()\n",
    "\n",
    "        torch.nn.utils.clip_grad_norm_(model.parameters(), clip)\n",
    "        optimizer.step()\n",
    "\n",
    "        train_step += 1\n",
    "        scheduler.step(train_step)\n",
    "\n",
    "        train_acc  = evaluator.eval({\n",
    "                        'y_true': ylabel[train_mask].unsqueeze(-1),\n",
    "                        'y_pred': train_res.argmax(dim=1).unsqueeze(-1)\n",
    "                    })['acc']\n",
    "        valid_acc  = evaluator.eval({\n",
    "                        'y_true': ylabel[valid_mask].unsqueeze(-1),\n",
    "                        'y_pred': valid_res.argmax(dim=1).unsqueeze(-1)\n",
    "                    })['acc']\n",
    "        test_acc   = evaluator.eval({\n",
    "                        'y_true': ylabel[test_mask].unsqueeze(-1),\n",
    "                        'y_pred': test_res.argmax(dim=1).unsqueeze(-1)\n",
    "                    })['acc']\n",
    "        stat += [[train_loss.item(), train_acc, valid_acc, test_acc]]\n",
    "        del node_rep, train_loss, ylabel\n",
    "    print(f'train_acc: {train_acc}')\n",
    "    print(f'valid_acc: {valid_acc}')\n",
    "    print(f'test_acc: {test_acc}')\n",
    "    epoch_counter += 1\n",
    "    training_time_end = time.time()\n",
    "    elapsed_time = training_time_end - training_time_start\n",
    "    total_training_time += elapsed_time\n",
    "    print(\"\")\n",
    "stop_time = time.time()\n",
    "time_elapsed = stop_time - start_time\n",
    "print(f'TRAINING time elapsed is: {total_training_time}')\n",
    "print(f'time elapsed is: {time_elapsed}')"
   ]
  },
  {
   "cell_type": "code",
   "execution_count": null,
   "metadata": {},
   "outputs": [],
   "source": []
  }
 ],
 "metadata": {
  "kernelspec": {
   "display_name": "Python 3",
   "language": "python",
   "name": "python3"
  },
  "language_info": {
   "codemirror_mode": {
    "name": "ipython",
    "version": 3
   },
   "file_extension": ".py",
   "mimetype": "text/x-python",
   "name": "python",
   "nbconvert_exporter": "python",
   "pygments_lexer": "ipython3",
   "version": "3.11.2"
  }
 },
 "nbformat": 4,
 "nbformat_minor": 2
}
