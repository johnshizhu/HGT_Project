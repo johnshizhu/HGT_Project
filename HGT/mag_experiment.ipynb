{
 "cells": [
  {
   "cell_type": "code",
   "execution_count": 1,
   "metadata": {},
   "outputs": [
    {
     "name": "stdout",
     "output_type": "stream",
     "text": [
      "Microsoft Academic Graph Dataset Experiment\n"
     ]
    }
   ],
   "source": [
    "'''\n",
    "This code opens the Microsoft Academic Graph Dataset and trains HGT\n",
    "Based on code provided by original HGT paper\n",
    "'''\n",
    "import torch\n",
    "from hgt import *\n",
    "from hgt_utils import *\n",
    "from model import *\n",
    "from ogb.nodeproppred import PygNodePropPredDataset\n",
    "from ogb.nodeproppred import Evaluator\n",
    "import multiprocessing as mp\n",
    "import argparse\n",
    "import numpy as np\n",
    "import time\n",
    "import pandas as pd\n",
    "import matplotlib as plt\n",
    "import seaborn as sb\n",
    "\n",
    "print(\"Microsoft Academic Graph Dataset Experiment\")"
   ]
  },
  {
   "cell_type": "code",
   "execution_count": 2,
   "metadata": {},
   "outputs": [
    {
     "name": "stdout",
     "output_type": "stream",
     "text": [
      "Begin Data Preprocessing\n",
      "\n",
      "Retrieving Data from Open Graph Benchmark ...\n",
      "... Retrieval complete\n"
     ]
    }
   ],
   "source": [
    "'''\n",
    "Data Preprocessing\n",
    "ogbn-mag only comes with paper node features, thus for other nodes types we take the average\n",
    "of connected paper nodes as input features. \n",
    "'''\n",
    "print(\"Begin Data Preprocessing\")\n",
    "print(\"\")\n",
    "print(\"Retrieving Data from Open Graph Benchmark ...\")\n",
    "\n",
    "# Get dataset using Pytorch Geometric Loader\n",
    "dataset = PygNodePropPredDataset(name='ogbn-mag')\n",
    "print(\"... Retrieval complete\")\n",
    "data = dataset[0] # pyg graph object"
   ]
  },
  {
   "cell_type": "code",
   "execution_count": 3,
   "metadata": {},
   "outputs": [
    {
     "name": "stdout",
     "output_type": "stream",
     "text": [
      "Populating edge lists into Graph object\n",
      "('author', 'affiliated_with', 'institution')\n",
      "('author', 'writes', 'paper')\n",
      "('paper', 'cites', 'paper')\n",
      "('paper', 'has_topic', 'field_of_study')\n",
      "\n",
      "Reformatting edge lists and computing node degrees\n",
      "institution author affiliated_with 8740\n",
      "author institution rev_affiliated_with 852987\n",
      "author paper rev_writes 1134649\n",
      "paper author writes 736389\n",
      "paper paper cites 629169\n",
      "paper paper rev_cites 617924\n",
      "paper field_of_study rev_has_topic 736389\n",
      "field_of_study paper has_topic 59965\n",
      "\n",
      "Constructing node feature vectors for each node type in graph\n",
      "author\n",
      "field_of_study\n",
      "institution\n",
      "paper\n",
      "\n",
      "Constructing Node features for institutions\n",
      "\n",
      "Splitting dataset into train, val and test\n",
      "\n",
      "Creating Masks\n",
      "\n",
      "Preprocessing complete\n"
     ]
    }
   ],
   "source": [
    "# Constructing Custom Graph\n",
    "graph, y, train_paper, valid_paper, test_paper = prepare_graph(data, dataset)"
   ]
  },
  {
   "cell_type": "code",
   "execution_count": 10,
   "metadata": {},
   "outputs": [],
   "source": [
    "# CUSTOMIZE PARAMETERS HERE\n",
    "n_batch = 32        # number of sampled graphs for each epoch\n",
    "batch_size = 128\n",
    "num_epochs = 1\n",
    "clip = 1.0\n",
    "sample_depth = 6\n",
    "sample_width = 520\n",
    "plot = False # True or false to plot data\n",
    "\n",
    "# Model parameters\n",
    "hidden_dim = 256\n",
    "num_heads = 8\n",
    "num_layers = 4\n",
    "dropout = 0.2"
   ]
  },
  {
   "cell_type": "code",
   "execution_count": 11,
   "metadata": {},
   "outputs": [
    {
     "name": "stdout",
     "output_type": "stream",
     "text": [
      "Creating Model\n",
      "Sequential(\n",
      "  (0): HGTModel(\n",
      "    (adapt_features): ModuleList(\n",
      "      (0-3): 4 x Linear(in_features=129, out_features=256, bias=True)\n",
      "    )\n",
      "    (hgt_layers): ModuleList(\n",
      "      (0-3): 4 x HGTLayer()\n",
      "    )\n",
      "    (drop): Dropout(p=0.2, inplace=False)\n",
      "  )\n",
      "  (1): Classifier(n_hid=256, n_out=349)\n",
      ")\n"
     ]
    }
   ],
   "source": [
    "# Creating Model\n",
    "print(\"Creating Model\")\n",
    "target_nodes = np.arange(len(graph.node_feature['paper']))\n",
    "hgt_GNN = HGTModel(len(graph.node_feature['paper'][0]), # input_dim\n",
    "                   hidden_dim,                          # hidden_dim\n",
    "                   len(graph.get_types()),              # num_node_types\n",
    "                   len(graph.get_meta_graph()),         # num_edge_types\n",
    "                   num_heads,                           # num_heads\n",
    "                   num_layers,                          # num_layers\n",
    "                   dropout,                             # dropout\n",
    "                   prev_norm = True,                    # normalization on all but last layer\n",
    "                   last_norm = False,                   # normalization on last layer\n",
    "                   use_rte = False)                     # use relative temporal encoding \n",
    "classifier = Classifier(hidden_dim, graph.y.max()+1)\n",
    "model = nn.Sequential(hgt_GNN, classifier)\n",
    "print(model)"
   ]
  },
  {
   "cell_type": "code",
   "execution_count": 12,
   "metadata": {},
   "outputs": [],
   "source": [
    "# Defining Optimizer, Scheduler, Loss, etc. \n",
    "criterion = nn.NLLLoss()\n",
    "evaluator = Evaluator(name='ogbn-mag')\n",
    "\n",
    "param_optimizer = list(model.named_parameters())\n",
    "no_decay = ['bias', 'LayerNorm.bias', 'LayerNorm.weight']\n",
    "optimizer_grouped_parameters = [\n",
    "        {'params': [p for n, p in param_optimizer if not any(nd in n for nd in no_decay)], 'weight_decay': 0.01},\n",
    "        {'params': [p for n, p in param_optimizer if any(nd in n for nd in no_decay)],     'weight_decay': 0.0}\n",
    "    ]\n",
    "\n",
    "optimizer = torch.optim.AdamW(optimizer_grouped_parameters, eps=1e-06)\n",
    "scheduler = torch.optim.lr_scheduler.OneCycleLR(optimizer, pct_start=0.05, anneal_strategy='linear', final_div_factor=10,\\\n",
    "                        max_lr = 5e-4, total_steps = n_batch * num_epochs + 1)"
   ]
  },
  {
   "cell_type": "code",
   "execution_count": 13,
   "metadata": {},
   "outputs": [],
   "source": [
    "stats = []\n",
    "res = []\n",
    "best_val = 0\n",
    "train_step = 0"
   ]
  },
  {
   "cell_type": "code",
   "execution_count": 16,
   "metadata": {},
   "outputs": [
    {
     "name": "stdout",
     "output_type": "stream",
     "text": [
      "Current Epoch is: 0 ---------------------\n",
      "Starting Sampling...\n",
      "Batch number: 0\n",
      "Batch number: 1\n",
      "Batch number: 2\n",
      "Batch number: 3\n",
      "Batch number: 4\n",
      "Batch number: 5\n",
      "Batch number: 6\n",
      "Batch number: 7\n",
      "Batch number: 8\n"
     ]
    }
   ],
   "source": [
    "# Model Training\n",
    "start_time = time.time()\n",
    "epoch_counter = 0\n",
    "\n",
    "\n",
    "for epoch in np.arange(num_epochs):\n",
    "    print(f'Current Epoch is: {epoch_counter} ---------------------')\n",
    "    \n",
    "    # Get Data for Training\n",
    "    datas = get_n_batches_training_data(n_batch, graph, sample_depth, sample_width, target_nodes, batch_size)\n",
    "\n",
    "    # TRAINING\n",
    "    model.train()\n",
    "    stat = []\n",
    "    for data in datas:\n",
    "        node_feature = data[0]\n",
    "        node_type = data[1]\n",
    "        edge_time = data[2]\n",
    "        edge_index = data[3]\n",
    "        edge_type = data[4]\n",
    "        (train_mask, valid_mask, test_mask) = data[5]\n",
    "        ylabel = data[6]\n",
    "\n",
    "        # Forward\n",
    "        node_rep = hgt_GNN.forward(node_feature, node_type, edge_index, edge_type, edge_time)\n",
    "        ylabel = torch.LongTensor(ylabel)\n",
    "        train_res  = classifier.forward(node_rep[:len(ylabel)][train_mask])\n",
    "        valid_res  = classifier.forward(node_rep[:len(ylabel)][valid_mask])\n",
    "        test_res   = classifier.forward(node_rep[:len(ylabel)][test_mask])\n",
    "\n",
    "        train_loss = criterion(train_res, ylabel[train_mask])\n",
    "        \n",
    "        optimizer.zero_grad()\n",
    "        train_loss.backward()\n",
    "\n",
    "        torch.nn.utils.clip_grad_norm_(model.parameters(), clip)\n",
    "        optimizer.step()\n",
    "\n",
    "        train_step += 1\n",
    "        scheduler.step(train_step)\n",
    "\n",
    "        train_acc  = evaluator.eval({\n",
    "                        'y_true': ylabel[train_mask].unsqueeze(-1),\n",
    "                        'y_pred': train_res.argmax(dim=1).unsqueeze(-1)\n",
    "                    })['acc']\n",
    "        valid_acc  = evaluator.eval({\n",
    "                        'y_true': ylabel[valid_mask].unsqueeze(-1),\n",
    "                        'y_pred': valid_res.argmax(dim=1).unsqueeze(-1)\n",
    "                    })['acc']\n",
    "        test_acc   = evaluator.eval({\n",
    "                        'y_true': ylabel[test_mask].unsqueeze(-1),\n",
    "                        'y_pred': test_res.argmax(dim=1).unsqueeze(-1)\n",
    "                    })['acc']\n",
    "        print(train_acc)\n",
    "        stat += [[train_loss.item(), train_acc, valid_acc, test_acc]]\n",
    "        del node_rep, train_loss, ylabel\n",
    "\n",
    "    epoch_counter += 1\n",
    "    print(\"\")\n",
    "stop_time = time.time()\n",
    "time_elapsed = stop_time - start_time\n",
    "print(f'time elapsed is: {time_elapsed}')"
   ]
  }
 ],
 "metadata": {
  "kernelspec": {
   "display_name": "Python 3",
   "language": "python",
   "name": "python3"
  },
  "language_info": {
   "codemirror_mode": {
    "name": "ipython",
    "version": 3
   },
   "file_extension": ".py",
   "mimetype": "text/x-python",
   "name": "python",
   "nbconvert_exporter": "python",
   "pygments_lexer": "ipython3",
   "version": "3.11.2"
  }
 },
 "nbformat": 4,
 "nbformat_minor": 2
}
