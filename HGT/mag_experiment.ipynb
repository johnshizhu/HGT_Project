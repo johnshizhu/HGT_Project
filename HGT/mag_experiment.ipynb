{
 "cells": [
  {
   "cell_type": "code",
   "execution_count": 1,
   "metadata": {},
   "outputs": [
    {
     "name": "stdout",
     "output_type": "stream",
     "text": [
      "Microsoft Academic Graph Dataset Experiment\n"
     ]
    }
   ],
   "source": [
    "'''\n",
    "This code opens the Microsoft Academic Graph Dataset and trains HGT\n",
    "Based on code provided by original HGT paper\n",
    "'''\n",
    "import torch\n",
    "from hgt import *\n",
    "from hgt_utils import *\n",
    "from model import *\n",
    "from ogb.nodeproppred import PygNodePropPredDataset\n",
    "from ogb.nodeproppred import Evaluator\n",
    "import multiprocessing as mp\n",
    "import argparse\n",
    "import numpy as np\n",
    "import time\n",
    "import pandas as pd\n",
    "import matplotlib as plt\n",
    "import seaborn as sb\n",
    "\n",
    "print(\"Microsoft Academic Graph Dataset Experiment\")"
   ]
  },
  {
   "cell_type": "code",
   "execution_count": 2,
   "metadata": {},
   "outputs": [
    {
     "name": "stdout",
     "output_type": "stream",
     "text": [
      "Begin Data Preprocessing\n",
      "\n",
      "Retrieving Data from Open Graph Benchmark ...\n",
      "... Retrieval complete\n"
     ]
    }
   ],
   "source": [
    "'''\n",
    "Data Preprocessing\n",
    "ogbn-mag only comes with paper node features, thus for other nodes types we take the average\n",
    "of connected paper nodes as input features. \n",
    "'''\n",
    "print(\"Begin Data Preprocessing\")\n",
    "print(\"\")\n",
    "print(\"Retrieving Data from Open Graph Benchmark ...\")\n",
    "\n",
    "# Get dataset using Pytorch Geometric Loader\n",
    "dataset = PygNodePropPredDataset(name='ogbn-mag')\n",
    "print(\"... Retrieval complete\")\n",
    "data = dataset[0] # pyg graph object"
   ]
  },
  {
   "cell_type": "code",
   "execution_count": 3,
   "metadata": {},
   "outputs": [
    {
     "name": "stdout",
     "output_type": "stream",
     "text": [
      "Populating edge lists into Graph object\n",
      "('author', 'affiliated_with', 'institution')\n",
      "('author', 'writes', 'paper')\n",
      "('paper', 'cites', 'paper')\n",
      "('paper', 'has_topic', 'field_of_study')\n",
      "\n",
      "Reformatting edge lists and computing node degrees\n",
      "institution author affiliated_with 8740\n",
      "author institution rev_affiliated_with 852987\n",
      "author paper rev_writes 1134649\n",
      "paper author writes 736389\n",
      "paper paper cites 629169\n",
      "paper paper rev_cites 617924\n",
      "paper field_of_study rev_has_topic 736389\n",
      "field_of_study paper has_topic 59965\n",
      "\n",
      "Constructing node feature vectors for each node type in graph\n",
      "author\n",
      "field_of_study\n",
      "institution\n",
      "paper\n",
      "\n",
      "Constructing Node features for institutions\n",
      "\n",
      "Splitting dataset into train, val and test\n",
      "\n",
      "Creating Masks\n",
      "\n",
      "Preprocessing complete\n"
     ]
    }
   ],
   "source": [
    "evaluator = Evaluator(name='ogbn-mag')\n",
    "# Preparing Graph\n",
    "graph, y, train_paper, valid_paper, test_paper = prepare_graph(data, dataset)"
   ]
  },
  {
   "cell_type": "code",
   "execution_count": 4,
   "metadata": {},
   "outputs": [
    {
     "name": "stdout",
     "output_type": "stream",
     "text": [
      "Creating Model\n",
      "Classifier output dim is: 349\n",
      "Sequential(\n",
      "  (0): HGTModel(\n",
      "    (adapt_features): ModuleList(\n",
      "      (0-3): 4 x Linear(in_features=129, out_features=256, bias=True)\n",
      "    )\n",
      "    (hgt_layers): ModuleList(\n",
      "      (0-3): 4 x HGTLayer()\n",
      "    )\n",
      "    (drop): Dropout(p=0.2, inplace=False)\n",
      "  )\n",
      "  (1): Classifier(n_hid=256, n_out=349)\n",
      ")\n"
     ]
    }
   ],
   "source": [
    "'''\n",
    "Creating Model\n",
    "'''\n",
    "print(\"Creating Model\")\n",
    "hgt_GNN = HGTModel(len(graph.node_feature['paper'][0]), # input_dim\n",
    "                   256,                                 # hidden_dim\n",
    "                   len(graph.get_types()),              # num_node_types\n",
    "                   len(graph.get_meta_graph()),         # num_edge_types\n",
    "                   8,                                   # num_heads\n",
    "                   4,                                   # num_layers\n",
    "                   0.2,                                 # dropout\n",
    "                   prev_norm = True,                    # normalization on all but last layer\n",
    "                   last_norm = False,                   # normalization on last layer\n",
    "                   use_rte = False)                     # use relative temporal encoding \n",
    "classifier = Classifier(256, graph.y.max()+1)\n",
    "\n",
    "print(f'Classifier output dim is: {graph.y.max()+1}')\n",
    "\n",
    "HGT_classifier = nn.Sequential(hgt_GNN, classifier)\n",
    "\n",
    "print(HGT_classifier)"
   ]
  },
  {
   "cell_type": "code",
   "execution_count": 5,
   "metadata": {},
   "outputs": [],
   "source": [
    "'''\n",
    "Preprocessing data\n",
    "'''\n",
    "batch_number = 32 # number of sampled graphs for each epoch\n",
    "batch_size = 128\n",
    "num_epochs = 10\n",
    "num_workers = 8\n",
    "clip = 1.0\n",
    "sample_depth = 6\n",
    "sample_width = 520\n",
    "plot = False # True or false to plot data\n",
    "target_nodes = np.arange(len(graph.node_feature['paper']))\n",
    "\n",
    "# Negative Log Likelihood Loss\n",
    "criterion = nn.NLLLoss()\n",
    "\n",
    "# Get list of model parameters w/ associated names\n",
    "parameters_optimizer = list(HGT_classifier.named_parameters())\n",
    "no_decay = ['bias', 'LayerNorm.bias', 'LayerNorm.weight']\n",
    "optimizer_grouped_parameters = [\n",
    "    {'params': [p for n, p in parameters_optimizer if not any(nd in n for nd in no_decay)], 'weight_decay': 0.01},\n",
    "    {'params': [p for n, p in parameters_optimizer if any(nd in n for nd in no_decay)],     'weight_decay': 0.0}\n",
    "]\n",
    "# AdamW optimizer w/specified parameter groups and epsilon value\n",
    "optimizer = torch.optim.AdamW(optimizer_grouped_parameters, eps=1e-06)\n",
    "# Create a OneCycleLR learning rate scheduler\n",
    "scheduler = torch.optim.lr_scheduler.OneCycleLR(optimizer, pct_start=0.05, anneal_strategy='linear', final_div_factor=10,\\\n",
    "                        max_lr = 5e-4, total_steps = batch_size * num_epochs + 1)\n",
    "stats = []\n",
    "result = []\n",
    "best_val = 0\n",
    "training_step = 0"
   ]
  },
  {
   "cell_type": "code",
   "execution_count": 36,
   "metadata": {},
   "outputs": [],
   "source": [
    "# Preparing parallel processing\n",
    "pool = mp.Pool(num_workers)\n",
    "\n",
    "# sample nodes:\n",
    "samp_nodes = np.random.choice(target_nodes, batch_size, replace = False)\n",
    "sample_depth = 6\n",
    "sample_width = 520           \n",
    "inp = {'paper': np.concatenate([samp_nodes, graph.years[samp_nodes]]).reshape(2, -1).transpose()}\n",
    "seed = randint()\n",
    "n_batch = 32\n",
    "batch_size = 128\n",
    "# node_feature, node_type, edge_time, edge_index, edge_type, (train_mask, valid_mask, test_mask), ylabel = ogbn_sample(seed, samp_nodes, graph, sample_depth, sample_width)"
   ]
  },
  {
   "cell_type": "code",
   "execution_count": 44,
   "metadata": {},
   "outputs": [
    {
     "name": "stdout",
     "output_type": "stream",
     "text": [
      "Starting Sampling...\n",
      "Batch number: 0\n",
      "Batch Number: 0, complete\n",
      "Batch number: 1\n",
      "Batch Number: 1, complete\n",
      "Batch number: 2\n",
      "Batch Number: 2, complete\n",
      "Batch number: 3\n",
      "Batch Number: 3, complete\n",
      "Batch number: 4\n",
      "Batch Number: 4, complete\n",
      "Batch number: 5\n",
      "Batch Number: 5, complete\n",
      "Batch number: 6\n",
      "Batch Number: 6, complete\n",
      "Batch number: 7\n",
      "Batch Number: 7, complete\n",
      "Batch number: 8\n",
      "Batch Number: 8, complete\n",
      "Batch number: 9\n",
      "Batch Number: 9, complete\n",
      "Batch number: 10\n",
      "Batch Number: 10, complete\n",
      "Batch number: 11\n",
      "Batch Number: 11, complete\n",
      "Batch number: 12\n",
      "Batch Number: 12, complete\n",
      "Batch number: 13\n",
      "Batch Number: 13, complete\n",
      "Batch number: 14\n",
      "Batch Number: 14, complete\n",
      "Batch number: 15\n",
      "Batch Number: 15, complete\n",
      "Batch number: 16\n",
      "Batch Number: 16, complete\n",
      "Batch number: 17\n",
      "Batch Number: 17, complete\n",
      "Batch number: 18\n",
      "Batch Number: 18, complete\n",
      "Batch number: 19\n",
      "Batch Number: 19, complete\n",
      "Batch number: 20\n",
      "Batch Number: 20, complete\n",
      "Batch number: 21\n",
      "Batch Number: 21, complete\n",
      "Batch number: 22\n",
      "Batch Number: 22, complete\n",
      "Batch number: 23\n",
      "Batch Number: 23, complete\n",
      "Batch number: 24\n",
      "Batch Number: 24, complete\n",
      "Batch number: 25\n",
      "Batch Number: 25, complete\n",
      "Batch number: 26\n",
      "Batch Number: 26, complete\n",
      "Batch number: 27\n",
      "Batch Number: 27, complete\n",
      "Batch number: 28\n",
      "Batch Number: 28, complete\n",
      "Batch number: 29\n",
      "Batch Number: 29, complete\n",
      "Batch number: 30\n",
      "Batch Number: 30, complete\n",
      "Batch number: 31\n",
      "Batch Number: 31, complete\n",
      "...Preprocessing complete \n"
     ]
    }
   ],
   "source": [
    "# Sampling Data from MAG\n",
    "datas = []\n",
    "print(\"Starting Sampling...\")\n",
    "for batch_id in np.arange(n_batch):\n",
    "    print(f'Batch number: {batch_id}')\n",
    "    node_feature, node_type, edge_time, edge_index, edge_type, (train_mask, valid_mask, test_mask), ylabel = ogbn_sample(seed, samp_nodes, graph, sample_depth, sample_width)\n",
    "    p = (\n",
    "        node_feature,\n",
    "        node_type,\n",
    "        edge_time,\n",
    "        edge_index,\n",
    "        edge_type,\n",
    "        (train_mask, valid_mask, test_mask),\n",
    "        ylabel\n",
    "    )\n",
    "    datas.append(p)\n",
    "    print(f'Batch Number: {batch_id}, complete')\n",
    "print(\"...Preprocessing complete \")\n"
   ]
  },
  {
   "cell_type": "code",
   "execution_count": 46,
   "metadata": {},
   "outputs": [
    {
     "name": "stdout",
     "output_type": "stream",
     "text": [
      "edge_index is: tensor([[    0,     1,     2,  ...,  6356,  6361,  6362],\n",
      "        [    0,     1,     2,  ..., 10574, 10575, 10576]])\n",
      "node_input is: tensor([[ 0.2427, -0.1206,  0.2411,  ...,  0.1223, -0.1023, -0.1223],\n",
      "        [ 0.2308, -0.0000,  0.0000,  ...,  0.2025, -0.2816,  0.1166],\n",
      "        [ 0.1542, -0.1709,  0.3268,  ...,  0.0625, -0.0464, -0.2350],\n",
      "        ...,\n",
      "        [-0.5711,  0.3413,  0.3423,  ...,  0.1012,  0.4190,  0.0000],\n",
      "        [-0.4044,  0.1923,  0.3356,  ...,  0.0000,  0.3220,  0.1070],\n",
      "        [-0.3871,  0.2063,  0.0000,  ..., -0.0475,  0.0000,  0.0408]],\n",
      "       grad_fn=<MulBackward0>)\n",
      "\n",
      "MESSAGE\n",
      "\n"
     ]
    },
    {
     "ename": "RuntimeError",
     "evalue": "The size of tensor a (105507) must match the size of tensor b (10577) at non-singleton dimension 0",
     "output_type": "error",
     "traceback": [
      "\u001b[1;31m---------------------------------------------------------------------------\u001b[0m",
      "\u001b[1;31mRuntimeError\u001b[0m                              Traceback (most recent call last)",
      "\u001b[1;32mc:\\Users\\johns\\OneDrive\\Desktop\\HGT_Project\\HGT\\mag_experiment.ipynb Cell 8\u001b[0m line \u001b[0;36m4\n\u001b[0;32m      <a href='vscode-notebook-cell:/c%3A/Users/johns/OneDrive/Desktop/HGT_Project/HGT/mag_experiment.ipynb#X22sZmlsZQ%3D%3D?line=0'>1</a>\u001b[0m \u001b[39m# Beginning Model Training\u001b[39;00m\n\u001b[0;32m      <a href='vscode-notebook-cell:/c%3A/Users/johns/OneDrive/Desktop/HGT_Project/HGT/mag_experiment.ipynb#X22sZmlsZQ%3D%3D?line=1'>2</a>\u001b[0m stat \u001b[39m=\u001b[39m []\n\u001b[1;32m----> <a href='vscode-notebook-cell:/c%3A/Users/johns/OneDrive/Desktop/HGT_Project/HGT/mag_experiment.ipynb#X22sZmlsZQ%3D%3D?line=3'>4</a>\u001b[0m node_rep \u001b[39m=\u001b[39m hgt_GNN\u001b[39m.\u001b[39;49mforward(node_feature, node_type, edge_time, edge_index, edge_type)\n\u001b[0;32m      <a href='vscode-notebook-cell:/c%3A/Users/johns/OneDrive/Desktop/HGT_Project/HGT/mag_experiment.ipynb#X22sZmlsZQ%3D%3D?line=5'>6</a>\u001b[0m \u001b[39mprint\u001b[39m(node_rep)\n\u001b[0;32m      <a href='vscode-notebook-cell:/c%3A/Users/johns/OneDrive/Desktop/HGT_Project/HGT/mag_experiment.ipynb#X22sZmlsZQ%3D%3D?line=7'>8</a>\u001b[0m \u001b[39mfor\u001b[39;00m node_feature, node_type, edge_time, edge_index, edge_type, (train_mask, valid_mask, test_mask), ylabel \u001b[39min\u001b[39;00m datas:\n",
      "File \u001b[1;32mc:\\Users\\johns\\OneDrive\\Desktop\\HGT_Project\\HGT\\model.py:56\u001b[0m, in \u001b[0;36mHGTModel.forward\u001b[1;34m(self, node_feature, node_type, edge_time, edge_index, edge_type)\u001b[0m\n\u001b[0;32m     54\u001b[0m \u001b[39mdel\u001b[39;00m result \u001b[39m# clear\u001b[39;00m\n\u001b[0;32m     55\u001b[0m \u001b[39mfor\u001b[39;00m layer \u001b[39min\u001b[39;00m \u001b[39mself\u001b[39m\u001b[39m.\u001b[39mhgt_layers:\n\u001b[1;32m---> 56\u001b[0m     post_drop \u001b[39m=\u001b[39m layer(post_drop, node_type, edge_index, edge_type, edge_time)\n\u001b[0;32m     57\u001b[0m \u001b[39mreturn\u001b[39;00m post_drop\n",
      "File \u001b[1;32mc:\\Users\\johns\\AppData\\Local\\Programs\\Python\\Python311\\Lib\\site-packages\\torch\\nn\\modules\\module.py:1518\u001b[0m, in \u001b[0;36mModule._wrapped_call_impl\u001b[1;34m(self, *args, **kwargs)\u001b[0m\n\u001b[0;32m   1516\u001b[0m     \u001b[39mreturn\u001b[39;00m \u001b[39mself\u001b[39m\u001b[39m.\u001b[39m_compiled_call_impl(\u001b[39m*\u001b[39margs, \u001b[39m*\u001b[39m\u001b[39m*\u001b[39mkwargs)  \u001b[39m# type: ignore[misc]\u001b[39;00m\n\u001b[0;32m   1517\u001b[0m \u001b[39melse\u001b[39;00m:\n\u001b[1;32m-> 1518\u001b[0m     \u001b[39mreturn\u001b[39;00m \u001b[39mself\u001b[39;49m\u001b[39m.\u001b[39;49m_call_impl(\u001b[39m*\u001b[39;49margs, \u001b[39m*\u001b[39;49m\u001b[39m*\u001b[39;49mkwargs)\n",
      "File \u001b[1;32mc:\\Users\\johns\\AppData\\Local\\Programs\\Python\\Python311\\Lib\\site-packages\\torch\\nn\\modules\\module.py:1527\u001b[0m, in \u001b[0;36mModule._call_impl\u001b[1;34m(self, *args, **kwargs)\u001b[0m\n\u001b[0;32m   1522\u001b[0m \u001b[39m# If we don't have any hooks, we want to skip the rest of the logic in\u001b[39;00m\n\u001b[0;32m   1523\u001b[0m \u001b[39m# this function, and just call forward.\u001b[39;00m\n\u001b[0;32m   1524\u001b[0m \u001b[39mif\u001b[39;00m \u001b[39mnot\u001b[39;00m (\u001b[39mself\u001b[39m\u001b[39m.\u001b[39m_backward_hooks \u001b[39mor\u001b[39;00m \u001b[39mself\u001b[39m\u001b[39m.\u001b[39m_backward_pre_hooks \u001b[39mor\u001b[39;00m \u001b[39mself\u001b[39m\u001b[39m.\u001b[39m_forward_hooks \u001b[39mor\u001b[39;00m \u001b[39mself\u001b[39m\u001b[39m.\u001b[39m_forward_pre_hooks\n\u001b[0;32m   1525\u001b[0m         \u001b[39mor\u001b[39;00m _global_backward_pre_hooks \u001b[39mor\u001b[39;00m _global_backward_hooks\n\u001b[0;32m   1526\u001b[0m         \u001b[39mor\u001b[39;00m _global_forward_hooks \u001b[39mor\u001b[39;00m _global_forward_pre_hooks):\n\u001b[1;32m-> 1527\u001b[0m     \u001b[39mreturn\u001b[39;00m forward_call(\u001b[39m*\u001b[39;49margs, \u001b[39m*\u001b[39;49m\u001b[39m*\u001b[39;49mkwargs)\n\u001b[0;32m   1529\u001b[0m \u001b[39mtry\u001b[39;00m:\n\u001b[0;32m   1530\u001b[0m     result \u001b[39m=\u001b[39m \u001b[39mNone\u001b[39;00m\n",
      "File \u001b[1;32mc:\\Users\\johns\\OneDrive\\Desktop\\HGT_Project\\HGT\\hgt.py:129\u001b[0m, in \u001b[0;36mHGTLayer.forward\u001b[1;34m(self, node_input, node_type, edge_index, edge_type, edge_time)\u001b[0m\n\u001b[0;32m    127\u001b[0m \u001b[39mprint\u001b[39m(\u001b[39mf\u001b[39m\u001b[39m'\u001b[39m\u001b[39medge_index is: \u001b[39m\u001b[39m{\u001b[39;00medge_index\u001b[39m}\u001b[39;00m\u001b[39m'\u001b[39m)\n\u001b[0;32m    128\u001b[0m \u001b[39mprint\u001b[39m(\u001b[39mf\u001b[39m\u001b[39m'\u001b[39m\u001b[39mnode_input is: \u001b[39m\u001b[39m{\u001b[39;00mnode_input\u001b[39m}\u001b[39;00m\u001b[39m'\u001b[39m)\n\u001b[1;32m--> 129\u001b[0m \u001b[39mreturn\u001b[39;00m \u001b[39mself\u001b[39;49m\u001b[39m.\u001b[39;49mpropagate(edge_index, \n\u001b[0;32m    130\u001b[0m                       node_input\u001b[39m=\u001b[39;49mnode_input,\n\u001b[0;32m    131\u001b[0m                       node_type\u001b[39m=\u001b[39;49mnode_type, \n\u001b[0;32m    132\u001b[0m                       edge_type\u001b[39m=\u001b[39;49medge_type, \n\u001b[0;32m    133\u001b[0m                       edge_time\u001b[39m=\u001b[39;49medge_time,\n\u001b[0;32m    134\u001b[0m                       target_node_input\u001b[39m=\u001b[39;49mnode_input,\n\u001b[0;32m    135\u001b[0m                       source_node_input\u001b[39m=\u001b[39;49mnode_input,\n\u001b[0;32m    136\u001b[0m                       target_node_type\u001b[39m=\u001b[39;49mnode_type,\n\u001b[0;32m    137\u001b[0m                       source_node_type\u001b[39m=\u001b[39;49mnode_type)\n",
      "File \u001b[1;32mc:\\Users\\johns\\AppData\\Local\\Programs\\Python\\Python311\\Lib\\site-packages\\torch_geometric\\nn\\conv\\message_passing.py:463\u001b[0m, in \u001b[0;36mMessagePassing.propagate\u001b[1;34m(self, edge_index, size, **kwargs)\u001b[0m\n\u001b[0;32m    461\u001b[0m     \u001b[39mif\u001b[39;00m res \u001b[39mis\u001b[39;00m \u001b[39mnot\u001b[39;00m \u001b[39mNone\u001b[39;00m:\n\u001b[0;32m    462\u001b[0m         msg_kwargs \u001b[39m=\u001b[39m res[\u001b[39m0\u001b[39m] \u001b[39mif\u001b[39;00m \u001b[39misinstance\u001b[39m(res, \u001b[39mtuple\u001b[39m) \u001b[39melse\u001b[39;00m res\n\u001b[1;32m--> 463\u001b[0m out \u001b[39m=\u001b[39m \u001b[39mself\u001b[39;49m\u001b[39m.\u001b[39;49mmessage(\u001b[39m*\u001b[39;49m\u001b[39m*\u001b[39;49mmsg_kwargs)\n\u001b[0;32m    464\u001b[0m \u001b[39mfor\u001b[39;00m hook \u001b[39min\u001b[39;00m \u001b[39mself\u001b[39m\u001b[39m.\u001b[39m_message_forward_hooks\u001b[39m.\u001b[39mvalues():\n\u001b[0;32m    465\u001b[0m     res \u001b[39m=\u001b[39m hook(\u001b[39mself\u001b[39m, (msg_kwargs, ), out)\n",
      "File \u001b[1;32mc:\\Users\\johns\\OneDrive\\Desktop\\HGT_Project\\HGT\\hgt.py:171\u001b[0m, in \u001b[0;36mHGTLayer.message\u001b[1;34m(self, edge_index_i, target_node_input, source_node_input, target_node_type, source_node_type, edge_type, edge_time)\u001b[0m\n\u001b[0;32m    168\u001b[0m \u001b[39m# Loop over the types of edges\u001b[39;00m\n\u001b[0;32m    169\u001b[0m \u001b[39mfor\u001b[39;00m edge_type_index \u001b[39min\u001b[39;00m \u001b[39mrange\u001b[39m(\u001b[39mself\u001b[39m\u001b[39m.\u001b[39mnum_edge_types):\n\u001b[0;32m    170\u001b[0m     \u001b[39m# Meta data relation (edge_type == relation) & (source_type == s) & (target_type == t) \u001b[39;00m\n\u001b[1;32m--> 171\u001b[0m     bool_mask_meta \u001b[39m=\u001b[39m (edge_type \u001b[39m==\u001b[39;49m \u001b[39mint\u001b[39;49m(edge_type_index)) \u001b[39m&\u001b[39;49m rel_target_source\n\u001b[0;32m    172\u001b[0m     \u001b[39mif\u001b[39;00m bool_mask_meta\u001b[39m.\u001b[39msum() \u001b[39m==\u001b[39m \u001b[39m0\u001b[39m:\n\u001b[0;32m    173\u001b[0m         \u001b[39mcontinue\u001b[39;00m\n",
      "\u001b[1;31mRuntimeError\u001b[0m: The size of tensor a (105507) must match the size of tensor b (10577) at non-singleton dimension 0"
     ]
    }
   ],
   "source": [
    "# Beginning Model Training\n",
    "stat = []\n",
    "\n",
    "node_rep = hgt_GNN.forward(node_feature, node_type, edge_time, edge_index, edge_type)\n",
    "\n",
    "print(node_rep)\n",
    "\n",
    "for node_feature, node_type, edge_time, edge_index, edge_type, (train_mask, valid_mask, test_mask), ylabel in datas:\n",
    "    x = 0"
   ]
  },
  {
   "cell_type": "code",
   "execution_count": null,
   "metadata": {},
   "outputs": [],
   "source": []
  }
 ],
 "metadata": {
  "kernelspec": {
   "display_name": "Python 3",
   "language": "python",
   "name": "python3"
  },
  "language_info": {
   "codemirror_mode": {
    "name": "ipython",
    "version": 3
   },
   "file_extension": ".py",
   "mimetype": "text/x-python",
   "name": "python",
   "nbconvert_exporter": "python",
   "pygments_lexer": "ipython3",
   "version": "3.11.2"
  }
 },
 "nbformat": 4,
 "nbformat_minor": 2
}
