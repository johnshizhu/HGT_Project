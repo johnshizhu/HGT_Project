{
 "cells": [
  {
   "cell_type": "code",
   "execution_count": 1,
   "metadata": {},
   "outputs": [
    {
     "name": "stdout",
     "output_type": "stream",
     "text": [
      "Microsoft Academic Graph Dataset Experiment\n"
     ]
    }
   ],
   "source": [
    "'''\n",
    "This code opens the Microsoft Academic Graph Dataset and trains HGT\n",
    "Based on code provided by original HGT paper\n",
    "'''\n",
    "import torch\n",
    "from hgt import *\n",
    "from hgt_utils import *\n",
    "from model import *\n",
    "from ogb.nodeproppred import PygNodePropPredDataset\n",
    "from ogb.nodeproppred import Evaluator\n",
    "import multiprocessing as mp\n",
    "import argparse\n",
    "import numpy as np\n",
    "import time\n",
    "import pandas as pd\n",
    "import matplotlib as plt\n",
    "import seaborn as sb\n",
    "\n",
    "print(\"Microsoft Academic Graph Dataset Experiment\")"
   ]
  },
  {
   "cell_type": "code",
   "execution_count": 2,
   "metadata": {},
   "outputs": [
    {
     "name": "stdout",
     "output_type": "stream",
     "text": [
      "Begin Data Preprocessing\n",
      "\n",
      "Retrieving Data from Open Graph Benchmark ...\n",
      "... Retrieval complete\n"
     ]
    }
   ],
   "source": [
    "'''\n",
    "Data Preprocessing\n",
    "ogbn-mag only comes with paper node features, thus for other nodes types we take the average\n",
    "of connected paper nodes as input features. \n",
    "'''\n",
    "print(\"Begin Data Preprocessing\")\n",
    "print(\"\")\n",
    "print(\"Retrieving Data from Open Graph Benchmark ...\")\n",
    "\n",
    "# Get dataset using Pytorch Geometric Loader\n",
    "dataset = PygNodePropPredDataset(name='ogbn-mag')\n",
    "print(\"... Retrieval complete\")\n",
    "data = dataset[0] # pyg graph object"
   ]
  },
  {
   "cell_type": "code",
   "execution_count": 3,
   "metadata": {},
   "outputs": [
    {
     "name": "stdout",
     "output_type": "stream",
     "text": [
      "Populating edge lists into Graph object\n",
      "('author', 'affiliated_with', 'institution')\n",
      "('author', 'writes', 'paper')\n",
      "('paper', 'cites', 'paper')\n",
      "('paper', 'has_topic', 'field_of_study')\n",
      "\n",
      "Reformatting edge lists and computing node degrees\n",
      "institution author affiliated_with 8740\n",
      "author institution rev_affiliated_with 852987\n",
      "author paper rev_writes 1134649\n",
      "paper author writes 736389\n",
      "paper paper cites 629169\n",
      "paper paper rev_cites 617924\n",
      "paper field_of_study rev_has_topic 736389\n",
      "field_of_study paper has_topic 59965\n",
      "\n",
      "Constructing node feature vectors for each node type in graph\n",
      "author\n",
      "field_of_study\n",
      "institution\n",
      "paper\n",
      "\n",
      "Constructing Node features for institutions\n",
      "\n",
      "Splitting dataset into train, val and test\n",
      "\n",
      "Creating Masks\n",
      "\n",
      "Preprocessing complete\n"
     ]
    }
   ],
   "source": [
    "evaluator = Evaluator(name='ogbn-mag')\n",
    "# Preparing Graph\n",
    "graph, y, train_paper, valid_paper, test_paper = prepare_graph(data, dataset)"
   ]
  },
  {
   "cell_type": "code",
   "execution_count": 4,
   "metadata": {},
   "outputs": [
    {
     "name": "stdout",
     "output_type": "stream",
     "text": [
      "Creating Model\n",
      "Classifier output dim is: 349\n",
      "Sequential(\n",
      "  (0): HGTModel(\n",
      "    (adapt_features): ModuleList(\n",
      "      (0-3): 4 x Linear(in_features=129, out_features=256, bias=True)\n",
      "    )\n",
      "    (hgt_layers): ModuleList(\n",
      "      (0-3): 4 x HGTLayer()\n",
      "    )\n",
      "    (drop): Dropout(p=0.2, inplace=False)\n",
      "  )\n",
      "  (1): Classifier(n_hid=256, n_out=349)\n",
      ")\n"
     ]
    }
   ],
   "source": [
    "'''\n",
    "Creating Model\n",
    "'''\n",
    "print(\"Creating Model\")\n",
    "hgt_GNN = HGTModel(len(graph.node_feature['paper'][0]), # input_dim\n",
    "                   256,                                 # hidden_dim\n",
    "                   len(graph.get_types()),              # num_node_types\n",
    "                   len(graph.get_meta_graph()),         # num_edge_types\n",
    "                   8,                                   # num_heads\n",
    "                   4,                                   # num_layers\n",
    "                   0.2,                                 # dropout\n",
    "                   prev_norm = True,                    # normalization on all but last layer\n",
    "                   last_norm = False,                   # normalization on last layer\n",
    "                   use_rte = False)                     # use relative temporal encoding \n",
    "classifier = Classifier(256, graph.y.max()+1)\n",
    "\n",
    "print(f'Classifier output dim is: {graph.y.max()+1}')\n",
    "\n",
    "HGT_classifier = nn.Sequential(hgt_GNN, classifier)\n",
    "\n",
    "print(HGT_classifier)"
   ]
  },
  {
   "cell_type": "code",
   "execution_count": 5,
   "metadata": {},
   "outputs": [],
   "source": [
    "'''\n",
    "Preprocessing data\n",
    "'''\n",
    "batch_number = 32 # number of sampled graphs for each epoch\n",
    "batch_size = 128\n",
    "num_epochs = 10\n",
    "num_workers = 8\n",
    "clip = 1.0\n",
    "sample_depth = 6\n",
    "sample_width = 520\n",
    "plot = False # True or false to plot data\n",
    "target_nodes = np.arange(len(graph.node_feature['paper']))\n",
    "\n",
    "# Negative Log Likelihood Loss\n",
    "criterion = nn.NLLLoss()\n",
    "\n",
    "# Get list of model parameters w/ associated names\n",
    "parameters_optimizer = list(HGT_classifier.named_parameters())\n",
    "no_decay = ['bias', 'LayerNorm.bias', 'LayerNorm.weight']\n",
    "optimizer_grouped_parameters = [\n",
    "    {'params': [p for n, p in parameters_optimizer if not any(nd in n for nd in no_decay)], 'weight_decay': 0.01},\n",
    "    {'params': [p for n, p in parameters_optimizer if any(nd in n for nd in no_decay)],     'weight_decay': 0.0}\n",
    "]\n",
    "# AdamW optimizer w/specified parameter groups and epsilon value\n",
    "optimizer = torch.optim.AdamW(optimizer_grouped_parameters, eps=1e-06)\n",
    "# Create a OneCycleLR learning rate scheduler\n",
    "scheduler = torch.optim.lr_scheduler.OneCycleLR(optimizer, pct_start=0.05, anneal_strategy='linear', final_div_factor=10,\\\n",
    "                        max_lr = 5e-4, total_steps = batch_size * num_epochs + 1)\n",
    "stats = []\n",
    "result = []\n",
    "best_val = 0\n",
    "training_step = 0"
   ]
  },
  {
   "cell_type": "code",
   "execution_count": 6,
   "metadata": {},
   "outputs": [],
   "source": [
    "# Preparing parallel processing\n",
    "pool = mp.Pool(num_workers)\n",
    "\n",
    "# sample nodes:\n",
    "samp_nodes = np.random.choice(target_nodes, batch_size, replace = False)\n",
    "sample_depth = 6\n",
    "sample_width = 520           \n",
    "inp = {'paper': np.concatenate([samp_nodes, graph.years[samp_nodes]]).reshape(2, -1).transpose()}\n",
    "seed = randint()"
   ]
  },
  {
   "cell_type": "code",
   "execution_count": 8,
   "metadata": {},
   "outputs": [
    {
     "name": "stdout",
     "output_type": "stream",
     "text": [
      "{'paper': array([[-0.125205  , -0.134075  , -0.20040999, ..., -0.114702  ,\n",
      "        -0.434517  ,  1.32221929],\n",
      "       [-0.26176801,  0.051687  , -0.13126799, ...,  0.164425  ,\n",
      "        -0.183248  ,  1.30103   ],\n",
      "       [-0.011906  ,  0.162616  ,  0.01099   , ..., -0.03533   ,\n",
      "        -0.176313  ,  1.50514998],\n",
      "       ...,\n",
      "       [-0.080194  ,  0.12802701, -0.195675  , ..., -0.141542  ,\n",
      "        -0.124276  ,  1.39794001],\n",
      "       [-0.075198  , -0.056696  , -0.080165  , ..., -0.171854  ,\n",
      "        -0.32188699,  1.5797836 ],\n",
      "       [-0.41930601,  0.048521  , -0.201967  , ...,  0.018828  ,\n",
      "        -0.52563   ,  1.44715803]]), 'author': array([[ 7.51385358e-02, -1.08575936e-01, -1.86865813e-01, ...,\n",
      "        -8.24531386e-02, -3.51220616e-01,  2.57634135e+00],\n",
      "       [-2.73372178e-02,  1.02903695e-01, -1.56183869e-01, ...,\n",
      "        -6.17252172e-02, -3.33473914e-01,  1.39794001e+00],\n",
      "       [-1.63193751e-01,  1.29883290e-03, -2.85722251e-01, ...,\n",
      "        -2.33118668e-01, -1.62728502e-01,  1.11394335e+00],\n",
      "       ...,\n",
      "       [-1.86069995e-01, -6.21990003e-02, -1.79758996e-01, ...,\n",
      "         8.84300023e-02, -2.47997999e-01,  3.01029996e-01],\n",
      "       [-1.47616330e-01,  6.75213964e-02, -1.47527350e-01, ...,\n",
      "        -7.48171981e-02, -3.12678150e-01,  2.02938378e+00],\n",
      "       [-9.93409976e-02, -4.77600005e-03, -2.65937001e-01, ...,\n",
      "        -3.92400008e-03, -1.65938005e-01,  3.01029996e-01]]), 'field_of_study': array([[-0.10402227, -0.06428345, -0.17299569, ..., -0.06874229,\n",
      "        -0.26733246,  5.86710729],\n",
      "       [-0.09833266, -0.05168953, -0.08430104, ..., -0.04365319,\n",
      "        -0.21841189,  5.27866902],\n",
      "       [-0.22105775, -0.09913027, -0.14196035, ...,  0.02077662,\n",
      "        -0.2297962 ,  3.43184605],\n",
      "       ...,\n",
      "       [-0.20665754, -0.12987298, -0.13213901, ..., -0.01669816,\n",
      "        -0.2694723 ,  2.5797836 ],\n",
      "       [-0.11989434, -0.04460191, -0.17007995, ..., -0.08712456,\n",
      "        -0.23573689,  2.25042   ],\n",
      "       [-0.16221401, -0.12292892, -0.16115201, ..., -0.06000513,\n",
      "        -0.30503405,  2.37657696]]), 'institution': array([[-0.10771317, -0.07048219, -0.19489023, ..., -0.07564843,\n",
      "        -0.26728805,  3.47129171],\n",
      "       [-0.03088808, -0.07255318, -0.17899102, ..., -0.10768554,\n",
      "        -0.28079518,  3.71625383],\n",
      "       [-0.03928559, -0.09371712, -0.201994  , ..., -0.09607399,\n",
      "        -0.3002644 ,  4.22639366],\n",
      "       ...,\n",
      "       [-0.09006979, -0.06008711, -0.30658647, ..., -0.12098107,\n",
      "        -0.26767068,  1.59106461],\n",
      "       [ 0.00643785, -0.09464979, -0.20587364, ..., -0.1216549 ,\n",
      "        -0.34508531,  1.99563519],\n",
      "       [ 0.04199353, -0.12030513, -0.1935758 , ..., -0.10462286,\n",
      "        -0.35749882,  2.26951294]])}\n"
     ]
    }
   ],
   "source": [
    "#node_feature, node_type, edge_time, edge_index, edge_type, (train_mask, valid_mask, test_mask), ylabel = ogbn_sample(seed, samp_nodes, graph, sample_depth, sample_width)\n",
    "np.random.seed(seed)\n",
    "ylabel      = torch.LongTensor(graph.y[samp_nodes])\n",
    "feature, times, edge_list, indxs, _ = sample_subgraph(\n",
    "    graph,\n",
    "    inp = {'paper': np.concatenate([samp_nodes, graph.years[samp_nodes]]).reshape(2, -1).transpose()},\n",
    "    sampled_depth = sample_depth, \n",
    "    sampled_number = sample_width,\n",
    "    feature_extractor = feature_MAG)"
   ]
  },
  {
   "cell_type": "code",
   "execution_count": null,
   "metadata": {},
   "outputs": [],
   "source": []
  }
 ],
 "metadata": {
  "kernelspec": {
   "display_name": "Python 3",
   "language": "python",
   "name": "python3"
  },
  "language_info": {
   "codemirror_mode": {
    "name": "ipython",
    "version": 3
   },
   "file_extension": ".py",
   "mimetype": "text/x-python",
   "name": "python",
   "nbconvert_exporter": "python",
   "pygments_lexer": "ipython3",
   "version": "3.11.2"
  }
 },
 "nbformat": 4,
 "nbformat_minor": 2
}
