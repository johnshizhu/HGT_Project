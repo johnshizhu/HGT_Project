{
 "cells": [
  {
   "cell_type": "code",
   "execution_count": 5,
   "metadata": {},
   "outputs": [
    {
     "name": "stdout",
     "output_type": "stream",
     "text": [
      "Microsoft Academic Graph Dataset Experiment\n"
     ]
    }
   ],
   "source": [
    "'''\n",
    "This code opens the Microsoft Academic Graph Dataset and trains HGT\n",
    "Based on code provided by original HGT paper\n",
    "'''\n",
    "import torch\n",
    "from hgt import *\n",
    "from hgt_utils import *\n",
    "from local_access import *\n",
    "from torch_geometric.loader import DataLoader\n",
    "from ogb.nodeproppred import PygNodePropPredDataset\n",
    "from ogb.nodeproppred import Evaluator\n",
    "import multiprocessing as mp\n",
    "import argparse\n",
    "import numpy as np\n",
    "import time\n",
    "import pandas as pd\n",
    "import matplotlib as plt\n",
    "import seaborn as sb\n",
    "\n",
    "print(\"Microsoft Academic Graph Dataset Experiment\")"
   ]
  },
  {
   "cell_type": "code",
   "execution_count": 9,
   "metadata": {},
   "outputs": [
    {
     "name": "stdout",
     "output_type": "stream",
     "text": [
      "Retrieving Data from Open Graph Benchmark ...\n",
      "... Retrieval complete\n"
     ]
    }
   ],
   "source": [
    "'''\n",
    "Data Preprocessing\n",
    "ogbn-mag only comes with paper node features, thus for other nodes types we take the average\n",
    "of connected paper nodes as input features. \n",
    "'''\n",
    "print(\"Retrieving Data from Open Graph Benchmark ...\")\n",
    "\n",
    "# Get dataset using Pytorch Geometric Loader\n",
    "dataset = PygNodePropPredDataset(name='ogbn-mag')\n",
    "print(\"... Retrieval complete\")\n",
    "data = dataset[0] # pyg graph object"
   ]
  },
  {
   "cell_type": "code",
   "execution_count": 21,
   "metadata": {},
   "outputs": [
    {
     "name": "stdout",
     "output_type": "stream",
     "text": [
      "Data(\n",
      "  num_nodes_dict={\n",
      "    author=1134649,\n",
      "    field_of_study=59965,\n",
      "    institution=8740,\n",
      "    paper=736389,\n",
      "  },\n",
      "  edge_index_dict={\n",
      "    (author, affiliated_with, institution)=[2, 1043998],\n",
      "    (author, writes, paper)=[2, 7145660],\n",
      "    (paper, cites, paper)=[2, 5416271],\n",
      "    (paper, has_topic, field_of_study)=[2, 7505078],\n",
      "  },\n",
      "  x_dict={ paper=[736389, 128] },\n",
      "  node_year={ paper=[736389, 1] },\n",
      "  edge_reltype={\n",
      "    (author, affiliated_with, institution)=[1043998, 1],\n",
      "    (author, writes, paper)=[7145660, 1],\n",
      "    (paper, cites, paper)=[5416271, 1],\n",
      "    (paper, has_topic, field_of_study)=[7505078, 1],\n",
      "  },\n",
      "  y_dict={ paper=[736389, 1] }\n",
      ")\n"
     ]
    }
   ],
   "source": [
    "print(data)"
   ]
  },
  {
   "cell_type": "code",
   "execution_count": null,
   "metadata": {},
   "outputs": [],
   "source": []
  }
 ],
 "metadata": {
  "kernelspec": {
   "display_name": "Python 3",
   "language": "python",
   "name": "python3"
  },
  "language_info": {
   "codemirror_mode": {
    "name": "ipython",
    "version": 3
   },
   "file_extension": ".py",
   "mimetype": "text/x-python",
   "name": "python",
   "nbconvert_exporter": "python",
   "pygments_lexer": "ipython3",
   "version": "3.11.2"
  }
 },
 "nbformat": 4,
 "nbformat_minor": 2
}
